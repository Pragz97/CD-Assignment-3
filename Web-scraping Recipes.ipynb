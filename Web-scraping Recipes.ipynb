{
 "cells": [
  {
   "cell_type": "markdown",
   "id": "8880d0b0-6caa-4492-ac5a-2668a4bf8f7f",
   "metadata": {},
   "source": [
    "# Scraping Webpages for Recipes and their Ingredients"
   ]
  },
  {
   "cell_type": "markdown",
   "id": "8df52119-ec79-40d3-986f-a40260fb032c",
   "metadata": {},
   "source": [
    "## Importing libraries"
   ]
  },
  {
   "cell_type": "code",
   "execution_count": 7,
   "id": "ea00088d-cab3-414e-9f32-5eedbe502404",
   "metadata": {},
   "outputs": [],
   "source": [
    "import pandas as pd\n",
    "import requests\n",
    "from bs4 import BeautifulSoup"
   ]
  },
  {
   "cell_type": "markdown",
   "id": "34fb8246-41ac-4b03-a660-e98b865d2e18",
   "metadata": {},
   "source": [
    "## HTML Data and BeautifulSoup Document Creation"
   ]
  },
  {
   "cell_type": "code",
   "execution_count": 37,
   "id": "c45facd5-e5f7-43e4-8d17-e8b25fcdd93e",
   "metadata": {},
   "outputs": [
    {
     "ename": "SyntaxError",
     "evalue": "(unicode error) 'unicodeescape' codec can't decode bytes in position 2-3: truncated \\UXXXXXXXX escape (2904858460.py, line 2)",
     "output_type": "error",
     "traceback": [
      "\u001b[1;36m  Cell \u001b[1;32mIn[37], line 2\u001b[1;36m\u001b[0m\n\u001b[1;33m    urls = pd.read_csv('C:\\Users\\praga\\Desktop\\Collecting Data\\CD-Assignment-3\\recipes-metadata.csv', delimiter='\\t', encoding='utf=8')\u001b[0m\n\u001b[1;37m                       ^\u001b[0m\n\u001b[1;31mSyntaxError\u001b[0m\u001b[1;31m:\u001b[0m (unicode error) 'unicodeescape' codec can't decode bytes in position 2-3: truncated \\UXXXXXXXX escape\n"
     ]
    }
   ],
   "source": [
    "#load the CSV file\n",
    "urls = pd.read_csv('C:\\Users\\praga\\Desktop\\Collecting Data\\CD-Assignment-3\\recipes-metadata.csv', delimiter='\\t', encoding='utf=8')"
   ]
  },
  {
   "cell_type": "code",
   "execution_count": 38,
   "id": "ff43d7cc-90ee-44ab-9999-bfa2a7ad1a24",
   "metadata": {},
   "outputs": [
    {
     "data": {
      "text/html": [
       "<div>\n",
       "<style scoped>\n",
       "    .dataframe tbody tr th:only-of-type {\n",
       "        vertical-align: middle;\n",
       "    }\n",
       "\n",
       "    .dataframe tbody tr th {\n",
       "        vertical-align: top;\n",
       "    }\n",
       "\n",
       "    .dataframe thead th {\n",
       "        text-align: right;\n",
       "    }\n",
       "</style>\n",
       "<table border=\"1\" class=\"dataframe\">\n",
       "  <thead>\n",
       "    <tr style=\"text-align: right;\">\n",
       "      <th></th>\n",
       "      <th>Dish</th>\n",
       "      <th>Published By</th>\n",
       "      <th>Published/Updated On</th>\n",
       "      <th>Recipe Rating</th>\n",
       "      <th>URL</th>\n",
       "    </tr>\n",
       "  </thead>\n",
       "  <tbody>\n",
       "    <tr>\n",
       "      <th>0</th>\n",
       "      <td>Shrimp Étouffée</td>\n",
       "      <td>Patricia S York</td>\n",
       "      <td>17-01-2020</td>\n",
       "      <td>4.7</td>\n",
       "      <td>https://www.southernliving.com/recipes/shrimp-...</td>\n",
       "    </tr>\n",
       "    <tr>\n",
       "      <th>1</th>\n",
       "      <td>Chicken and Sausage Gumbo</td>\n",
       "      <td>Southern Living Test Kitchen</td>\n",
       "      <td>15-09-2024</td>\n",
       "      <td>5.0</td>\n",
       "      <td>https://www.southernliving.com/recipes/chicken...</td>\n",
       "    </tr>\n",
       "  </tbody>\n",
       "</table>\n",
       "</div>"
      ],
      "text/plain": [
       "                       Dish                   Published By  \\\n",
       "0            Shrimp Étouffée               Patricia S York   \n",
       "1  Chicken and Sausage Gumbo  Southern Living Test Kitchen   \n",
       "\n",
       "  Published/Updated On  Recipe Rating   \\\n",
       "0           17-01-2020             4.7   \n",
       "1           15-09-2024             5.0   \n",
       "\n",
       "                                                 URL  \n",
       "0  https://www.southernliving.com/recipes/shrimp-...  \n",
       "1  https://www.southernliving.com/recipes/chicken...  "
      ]
     },
     "execution_count": 38,
     "metadata": {},
     "output_type": "execute_result"
    }
   ],
   "source": [
    "urls"
   ]
  },
  {
   "cell_type": "code",
   "execution_count": 39,
   "id": "9bcbce1f-0264-41e9-98d4-f5f09142287d",
   "metadata": {},
   "outputs": [],
   "source": [
    "import requests\n",
    "#headers required because the webscraping was not possible without\n",
    "headers = {\n",
    "    'User-Agent': 'Mozilla/5.0 (Windows NT 10.0; Win64; x64) AppleWebKit/537.36 (KHTML, like Gecko) Chrome/94.0.4606.81 Safari/537.36'\n",
    "}\n",
    "\n",
    "def scrape_recipe(url):\n",
    "    response = requests.get(url, headers=headers)\n",
    "    html_string = response.text\n",
    "    return html_string"
   ]
  },
  {
   "cell_type": "code",
   "execution_count": 40,
   "id": "0aeabd89-c0e5-4fbc-b8ee-7685cc3d6bf3",
   "metadata": {},
   "outputs": [],
   "source": [
    "for index, row in urls.iterrows():\n",
    "    try:\n",
    "        urls.loc[index, 'text'] = scrape_recipe(row['URL'])\n",
    "    except:\n",
    "        urls.loc[index, 'text'] = \"URL not available\""
   ]
  },
  {
   "cell_type": "code",
   "execution_count": 41,
   "id": "d46f2d38-c67e-446c-9510-53e900e4e1eb",
   "metadata": {},
   "outputs": [
    {
     "data": {
      "text/html": [
       "<div>\n",
       "<style scoped>\n",
       "    .dataframe tbody tr th:only-of-type {\n",
       "        vertical-align: middle;\n",
       "    }\n",
       "\n",
       "    .dataframe tbody tr th {\n",
       "        vertical-align: top;\n",
       "    }\n",
       "\n",
       "    .dataframe thead th {\n",
       "        text-align: right;\n",
       "    }\n",
       "</style>\n",
       "<table border=\"1\" class=\"dataframe\">\n",
       "  <thead>\n",
       "    <tr style=\"text-align: right;\">\n",
       "      <th></th>\n",
       "      <th>Dish</th>\n",
       "      <th>Published By</th>\n",
       "      <th>Published/Updated On</th>\n",
       "      <th>Recipe Rating</th>\n",
       "      <th>URL</th>\n",
       "      <th>text</th>\n",
       "    </tr>\n",
       "  </thead>\n",
       "  <tbody>\n",
       "    <tr>\n",
       "      <th>0</th>\n",
       "      <td>Shrimp Étouffée</td>\n",
       "      <td>Patricia S York</td>\n",
       "      <td>17-01-2020</td>\n",
       "      <td>4.7</td>\n",
       "      <td>https://www.southernliving.com/recipes/shrimp-...</td>\n",
       "      <td>&lt;!DOCTYPE html&gt;\\n&lt;html id=\"recipeScTemplate_1-...</td>\n",
       "    </tr>\n",
       "    <tr>\n",
       "      <th>1</th>\n",
       "      <td>Chicken and Sausage Gumbo</td>\n",
       "      <td>Southern Living Test Kitchen</td>\n",
       "      <td>15-09-2024</td>\n",
       "      <td>5.0</td>\n",
       "      <td>https://www.southernliving.com/recipes/chicken...</td>\n",
       "      <td>&lt;!DOCTYPE html&gt;\\n&lt;html id=\"recipeScTemplate_1-...</td>\n",
       "    </tr>\n",
       "  </tbody>\n",
       "</table>\n",
       "</div>"
      ],
      "text/plain": [
       "                       Dish                   Published By  \\\n",
       "0            Shrimp Étouffée               Patricia S York   \n",
       "1  Chicken and Sausage Gumbo  Southern Living Test Kitchen   \n",
       "\n",
       "  Published/Updated On  Recipe Rating   \\\n",
       "0           17-01-2020             4.7   \n",
       "1           15-09-2024             5.0   \n",
       "\n",
       "                                                 URL  \\\n",
       "0  https://www.southernliving.com/recipes/shrimp-...   \n",
       "1  https://www.southernliving.com/recipes/chicken...   \n",
       "\n",
       "                                                text  \n",
       "0  <!DOCTYPE html>\\n<html id=\"recipeScTemplate_1-...  \n",
       "1  <!DOCTYPE html>\\n<html id=\"recipeScTemplate_1-...  "
      ]
     },
     "execution_count": 41,
     "metadata": {},
     "output_type": "execute_result"
    }
   ],
   "source": [
    "urls"
   ]
  },
  {
   "cell_type": "code",
   "execution_count": 51,
   "id": "7ab5513d-aa6a-441e-b0dd-9ab17cade6fb",
   "metadata": {},
   "outputs": [],
   "source": [
    "#Creating BeautifulSoup Documents\n",
    "\n",
    "def BSDOC(url): \n",
    "    html_string = scrape_recipe(url)\n",
    "    document = BeautifulSoup(html_string, \"html.parser\")\n",
    "    return document\n"
   ]
  },
  {
   "cell_type": "code",
   "execution_count": 53,
   "id": "dee1aaef-a9ed-47ab-88d9-0876d3fe3240",
   "metadata": {},
   "outputs": [],
   "source": [
    "SE_Doc = BSDOC(\"https://www.southernliving.com/recipes/shrimp-etouffee\")\n",
    "Gumbo_Doc = BSDOC(\"https://southernliving.com/recipes/chicken-and-sausage-gumbo\")"
   ]
  },
  {
   "cell_type": "markdown",
   "id": "9e4e0b27-c98b-4384-a086-83e0731d4aaf",
   "metadata": {},
   "source": [
    "## Extract Ingredients and Recipe "
   ]
  },
  {
   "cell_type": "markdown",
   "id": "02c1cabd-fba4-4d69-bc73-95034d7bc449",
   "metadata": {},
   "source": [
    "Upon inspecting the HTML elements, I narrowed down the specific elements required to extract the ingredients and the methods for the recipes. As it is the same for both recipes, it can be assumed that the below functions are applicable to most recipes on this website. "
   ]
  },
  {
   "cell_type": "code",
   "execution_count": 96,
   "id": "79ccdc1a-a7a4-4f86-af48-8d6de8e335e5",
   "metadata": {},
   "outputs": [],
   "source": [
    "def get_ingredients(document):\n",
    "    all_ingredients = document.find_all(\"span\", attrs = {\"data-ingredient-name\":\"true\"})\n",
    "    ingredients = []\n",
    "    for item in all_ingredients:\n",
    "        item_content = item.text\n",
    "        ingredients.append(item_content) \n",
    "    return ingredients                                   "
   ]
  },
  {
   "cell_type": "code",
   "execution_count": 97,
   "id": "c7c64760-8487-4ed3-9778-c9fddbae12c5",
   "metadata": {},
   "outputs": [],
   "source": [
    "def get_methods(document):\n",
    "    all_methods = document.find_all(\"p\", attrs = {\"class\":\"comp mntl-sc-block mntl-sc-block-html\"})\n",
    "    methods = []\n",
    "    for item in all_methods:\n",
    "        item_content = item.text\n",
    "        methods.append(item_content)\n",
    "    return methods"
   ]
  },
  {
   "cell_type": "code",
   "execution_count": 76,
   "id": "b9900e19-87c4-40b0-a4c5-50bd27741756",
   "metadata": {},
   "outputs": [
    {
     "data": {
      "text/plain": [
       "['(4 oz.) salted butter',\n",
       " '(about 1 1/2 oz.) all-purpose flour',\n",
       " 'chopped yellow onion (from 1 large onion)',\n",
       " 'chopped celery (from 1 large stalk)',\n",
       " 'minced garlic (from 1 large garlic clove)',\n",
       " 'chopped red bell pepper (from 1 medium bell pepper)',\n",
       " 'chopped green bell pepper (from 1 medium bell pepper)',\n",
       " 'chicken broth',\n",
       " 'water',\n",
       " 'medium peeled, deveined raw shrimp',\n",
       " 'hot sauce',\n",
       " 'kosher salt',\n",
       " 'black pepper',\n",
       " 'chopped scallions (from 2 scallions)',\n",
       " 'chopped fresh flat-leaf parsley',\n",
       " 'Hot cooked long-grain white rice']"
      ]
     },
     "execution_count": 76,
     "metadata": {},
     "output_type": "execute_result"
    }
   ],
   "source": [
    "#Testing Functions\n",
    "get_ingredients(SE_Doc)"
   ]
  },
  {
   "cell_type": "code",
   "execution_count": 99,
   "id": "1a7d54c6-6485-440d-bdc6-585db8bb6c80",
   "metadata": {},
   "outputs": [
    {
     "data": {
      "text/plain": [
       "[' This iconic chicken and sausage gumbo recipe represents everything we love about Louisiana cooking. With ordinary ingredients, the right seasonings, and patience, the results are extraordinary.\\n',\n",
       " \" The secrets to a good gumbo aren't anything fancy either, but if you take the time to do them right, your gumbo will be just as good as the ones served in New Orleans.\\n\",\n",
       " \" The first? Make sure to brown the sausage and chicken until they both have crispy caramelization. Secondly, don't fear the roux. Brown is the color of flavor so make sure to stir your vegetable oil and flour mixture until it's reached a true chocolate hue.\\xa0\\n\",\n",
       " ' Gumbo originated in the early 18th century in Louisiana, and is a flavorful stew made up of stock, a\\xa0holy trinity\\xa0of onion, bell pepper, and celery; meat or shellfish, and a thickener—typically a roux, okra, or\\xa0filé powder. A vibrant combination of flavors and textures, this hearty dish is often used as a metaphor for the melting pot of cultures within the state.\\n',\n",
       " \" You may come across a few unique types of gumbo. Creole gumbo, thickened with a light roux and featuring tomatoes, differs from Cajun gumbo, which is thickened with a dark roux, and does not traditionally have tomatoes in the mix. Gumbo z'herbes is another type of gumbo, made vegetarian to be enjoyed during Lent or for other meatless occasions.\\n\",\n",
       " \" Gumbo and jambalaya\\xa0are both staples of Cajun and Creole cuisine, with unique flavor profiles based on who's making the dish. The major difference between the two is how they're served—gumbo is served spooned over rice, while\\xa0jambalaya is cooked with rice as a part of the dish.\\n\",\n",
       " \" Andouille sausage, a holy trinity, Creole seasoning, and bone-in chicken breasts combine for this richly flavored chicken and sausage gumbo your family will ask for on repeat. To make chicken and sausage gumbo, you'll need:\\n\",\n",
       " \" While optional, filé powder is used to flavor and thicken gumbo, and is often used in Louisiana Creole cuisine. It's a seasoning made from dried and ground leaves of North American sassafras trees, with a slightly herbal flavor. It's typically sprinkled over gumbo after cooking to tighten it up and add an earthy flavor, as cooking it too long could cause a stringy result.\\n\",\n",
       " \" The best dishes are worth waiting for, and the slow simmer of this gumbo builds deep flavor for a rich and savory blend of ingredients. Full instructions are below, but here's a brief recap before you get started:\\n\",\n",
       " ' Gumbo is a great make-ahead dish. To make this dish in advance, cook as directed, then cool completely before transferring to an airtight container. Refrigerate for up to two days for the freshest flavor and reheat on the stovetop before serving.\\n',\n",
       " ' Leftover chicken and sausage gumbo will keep in the refrigerator for up to four days. Store in an airtight container, and reheat on the stovetop until heated throughout. You can also reheat small portions in the microwave as needed.\\n',\n",
       " ' You can also freeze leftover gumbo in a freezer-safe container or zip-top bag for up to three months. Thaw overnight in the refrigerator, and reheat on the stovetop or in the microwave when ready to serve.\\n',\n",
       " ' We love when a recipe gets steller reviews—especially when they come from those who have made it for a number of years with success.\\n',\n",
       " ' One Southern Living community member commented, \"I have made this recipe for years and it is the best gumbo I have ever had, hands down!\"\\n',\n",
       " ' While another said, \"I\\'ve made this recipe for the last 10+ years. Being a cajun myself (south of I10 😉 ) this is definitely close to home and also quick and easy for beginners. Definitely my go-to favorite. Let\\'s also mention my family devours it and nothing is left over!! It\\'s requested for holidays and get togethers all the time. Bon Appétit!\"\\n',\n",
       " ' For the ultimate shrimp, chicken, turkey, or vegetarian gumbo, look no further:\\n',\n",
       " ' Editorial contributions by Katie Rosenhouse.\\n',\n",
       " ' Cook sausage in a Dutch oven over medium heat, stirring constantly, 5 minutes or until browned. Drain on paper towels, reserving drippings in Dutch oven. Set sausage aside.\\n',\n",
       " ' Cook chicken in reserved drippings in Dutch oven over medium heat 5 minutes or until browned. Remove to paper towels, reserving drippings in Dutch oven. Set chicken aside.\\n',\n",
       " ' Add enough oil to drippings in Dutch oven to measure 1/2 cup. Add flour, and cook over medium heat, stirring constantly, 20 to 25 minutes, or until roux is chocolate colored.\\n',\n",
       " ' Stir in onion, bell pepper, and celery; cook, stirring often, 8 minutes or until tender. Gradually add 2 quarts hot water, and bring mixture to a boil; add chicken, garlic, and next 5 ingredients. Reduce heat to low, and simmer, stirring occasionally, 1 hour. Remove chicken; let cool.\\n',\n",
       " ' Add sausage to gumbo; cook 30 minutes. Stir in green onions; cook for 30 more minutes.\\n',\n",
       " ' Bone chicken, and cut meat into strips; return chicken to gumbo, and simmer 5 minutes. Remove and discard bay leaves.\\n',\n",
       " ' Remove gumbo from heat. Sprinkle with filé powder, if desired. Serve over hot cooked rice. Garnish, if desired.\\n']"
      ]
     },
     "execution_count": 99,
     "metadata": {},
     "output_type": "execute_result"
    }
   ],
   "source": [
    "get_methods(Gumbo_Doc)"
   ]
  },
  {
   "cell_type": "code",
   "execution_count": 100,
   "id": "a9f572aa-c5a8-400f-8c7a-ebee8e6cad0b",
   "metadata": {},
   "outputs": [
    {
     "data": {
      "text/plain": [
       "[\" This classic Louisiana dish can be on the dinner table in just over an hour. Have all of the ingredients prepped and ready to go before you start cooking. To make the meal come together even faster, you can cook the rice ahead of time and reheat it before serving. Once dinner's done, all you'll need is some hot sauce and plenty of crusty bread for mopping up all the rich, velvety sauce. Not a fan of shrimp? Substitute crawfish tail meat.\\n\",\n",
       " ' Melt butter in a large Dutch oven over medium-low; whisk in flour. Cook, whisking constantly, until mixture turns golden brown, 10 to 12 minutes. Increase heat to medium, and add onion, celery, and garlic. Cook, stirring often, until soft and golden, about 15 minutes.\\n',\n",
       " ' Stir in bell peppers, and cook, stirring often, 5 minutes. Stir in broth and water, and cook, stirring constantly, until mixture thickens, 7 to 10 minutes. Stir in shrimp, and cook, stirring occasionally, until shrimp turn pink, about 5 minutes. Stir in hot sauce, salt, and pepper; cook 5 more minutes. Stir in scallions and parsley, and simmer 5 minutes. Remove from heat. Cover and let stand 5 minutes. Serve immediately over hot cooked rice.\\n']"
      ]
     },
     "execution_count": 100,
     "metadata": {},
     "output_type": "execute_result"
    }
   ],
   "source": [
    "get_methods(SE_Doc)"
   ]
  },
  {
   "cell_type": "markdown",
   "id": "14fde073-8286-42de-8a3e-a5c8b8d9ddf8",
   "metadata": {},
   "source": [
    "## Using RegEx to clean up\n",
    "Upon testing the functions, I found that the find_all method extracted unnecessary information in addition to '\\n'. The code below is to clean up the output. "
   ]
  },
  {
   "cell_type": "code",
   "execution_count": 103,
   "id": "ade53ae6-4232-4b42-ad51-9e75dbce1a57",
   "metadata": {},
   "outputs": [],
   "source": [
    "import re"
   ]
  },
  {
   "cell_type": "code",
   "execution_count": 121,
   "id": "49844e73-fa93-42af-8c02-010214a063a7",
   "metadata": {},
   "outputs": [],
   "source": [
    "#Save methods as variables\n",
    "MakeGumbo = get_methods(Gumbo_Doc)\n",
    "MakeEtoufee = get_methods(SE_Doc)\n"
   ]
  },
  {
   "cell_type": "code",
   "execution_count": 154,
   "id": "6299743e-10f8-4703-b3aa-15ef9aed082c",
   "metadata": {},
   "outputs": [],
   "source": [
    "def clean_doc(document):\n",
    "    string = \"\".join(document)\n",
    "    cleaned_doc = string.split(\"\\n\")\n",
    "    return cleaned_doc"
   ]
  },
  {
   "cell_type": "code",
   "execution_count": 169,
   "id": "00704650-61df-4b87-b5ae-e0ffed25ad05",
   "metadata": {},
   "outputs": [],
   "source": [
    "#to remove '\\xao'\n",
    "def methods(document):\n",
    "    new_doc = clean_doc(document)\n",
    "    doc = \" \".join(new_doc)\n",
    "    methods = re.sub('\\xa0', '', doc)\n",
    "    instructions = re.split(r'(?<=[.!?])\\s+', methods)\n",
    "    return instructions"
   ]
  },
  {
   "cell_type": "code",
   "execution_count": 192,
   "id": "79a24c9a-38b1-4a30-b47a-06351bb23f1d",
   "metadata": {},
   "outputs": [],
   "source": [
    "## Final Cleanup - unnecessary text\n",
    "Etoufee_Ingredients = get_ingredients(SE_Doc)\n",
    "Etoufee_Instructions = methods(MakeEtoufee)[6:]\n",
    "Gumbo_Ingredients = get_ingredients(Gumbo_Doc)\n",
    "Gumbo_Instructions = methods(MakeGumbo)[34:]\n"
   ]
  },
  {
   "cell_type": "markdown",
   "id": "29d14ff8-b655-44ea-b6ff-42d0721c4bdf",
   "metadata": {},
   "source": [
    "# Shrimp Etoufee"
   ]
  },
  {
   "cell_type": "code",
   "execution_count": 193,
   "id": "afa4bb8c-fb31-4b30-b350-6e84225fe1bf",
   "metadata": {},
   "outputs": [
    {
     "data": {
      "text/plain": [
       "['(4 oz.) salted butter',\n",
       " '(about 1 1/2 oz.) all-purpose flour',\n",
       " 'chopped yellow onion (from 1 large onion)',\n",
       " 'chopped celery (from 1 large stalk)',\n",
       " 'minced garlic (from 1 large garlic clove)',\n",
       " 'chopped red bell pepper (from 1 medium bell pepper)',\n",
       " 'chopped green bell pepper (from 1 medium bell pepper)',\n",
       " 'chicken broth',\n",
       " 'water',\n",
       " 'medium peeled, deveined raw shrimp',\n",
       " 'hot sauce',\n",
       " 'kosher salt',\n",
       " 'black pepper',\n",
       " 'chopped scallions (from 2 scallions)',\n",
       " 'chopped fresh flat-leaf parsley',\n",
       " 'Hot cooked long-grain white rice']"
      ]
     },
     "execution_count": 193,
     "metadata": {},
     "output_type": "execute_result"
    }
   ],
   "source": [
    "Etoufee_Ingredients"
   ]
  },
  {
   "cell_type": "code",
   "execution_count": 194,
   "id": "4277498c-881a-4e8b-9a64-126f4da2c42b",
   "metadata": {},
   "outputs": [
    {
     "data": {
      "text/plain": [
       "['Melt butter in a large Dutch oven over medium-low; whisk in flour.',\n",
       " 'Cook, whisking constantly, until mixture turns golden brown, 10 to 12 minutes.',\n",
       " 'Increase heat to medium, and add onion, celery, and garlic.',\n",
       " 'Cook, stirring often, until soft and golden, about 15 minutes.',\n",
       " 'Stir in bell peppers, and cook, stirring often, 5 minutes.',\n",
       " 'Stir in broth and water, and cook, stirring constantly, until mixture thickens, 7 to 10 minutes.',\n",
       " 'Stir in shrimp, and cook, stirring occasionally, until shrimp turn pink, about 5 minutes.',\n",
       " 'Stir in hot sauce, salt, and pepper; cook 5 more minutes.',\n",
       " 'Stir in scallions and parsley, and simmer 5 minutes.',\n",
       " 'Remove from heat.',\n",
       " 'Cover and let stand 5 minutes.',\n",
       " 'Serve immediately over hot cooked rice.',\n",
       " '']"
      ]
     },
     "execution_count": 194,
     "metadata": {},
     "output_type": "execute_result"
    }
   ],
   "source": [
    "Etoufee_Instructions"
   ]
  },
  {
   "cell_type": "markdown",
   "id": "9bedad86-6afa-4dd2-b698-a064725cb4de",
   "metadata": {},
   "source": [
    "# Chicken and Sausage Gumbo"
   ]
  },
  {
   "cell_type": "code",
   "execution_count": 195,
   "id": "0c344322-3b54-47f8-8096-2c282580f23c",
   "metadata": {},
   "outputs": [
    {
     "data": {
      "text/plain": [
       "['andouille sausage, cut into 1/4-in.-thick slices',\n",
       " 'skinned bone-in chicken breasts',\n",
       " 'Vegetable oil',\n",
       " 'all-purpose flour',\n",
       " 'medium onion, chopped',\n",
       " 'green bell pepper, chopped',\n",
       " 'celery ribs, sliced',\n",
       " 'hot water',\n",
       " 'garlic cloves, minced',\n",
       " 'bay leaves',\n",
       " 'Worcestershire sauce',\n",
       " 'Creole seasoning',\n",
       " 'dried thyme',\n",
       " 'hot sauce',\n",
       " 'green onions, sliced',\n",
       " 'Filé powder (optional)',\n",
       " 'Hot cooked rice',\n",
       " 'Garnish: chopped green onions']"
      ]
     },
     "execution_count": 195,
     "metadata": {},
     "output_type": "execute_result"
    }
   ],
   "source": [
    "Gumbo_Ingredients"
   ]
  },
  {
   "cell_type": "code",
   "execution_count": 196,
   "id": "a9f8bed5-46a6-4d77-8ac9-cbbd83a31764",
   "metadata": {},
   "outputs": [
    {
     "data": {
      "text/plain": [
       "['Cook sausage in a Dutch oven over medium heat, stirring constantly, 5 minutes or until browned.',\n",
       " 'Drain on paper towels, reserving drippings in Dutch oven.',\n",
       " 'Set sausage aside.',\n",
       " 'Cook chicken in reserved drippings in Dutch oven over medium heat 5 minutes or until browned.',\n",
       " 'Remove to paper towels, reserving drippings in Dutch oven.',\n",
       " 'Set chicken aside.',\n",
       " 'Add enough oil to drippings in Dutch oven to measure 1/2 cup.',\n",
       " 'Add flour, and cook over medium heat, stirring constantly, 20 to 25 minutes, or until roux is chocolate colored.',\n",
       " 'Stir in onion, bell pepper, and celery; cook, stirring often, 8 minutes or until tender.',\n",
       " 'Gradually add 2 quarts hot water, and bring mixture to a boil; add chicken, garlic, and next 5 ingredients.',\n",
       " 'Reduce heat to low, and simmer, stirring occasionally, 1 hour.',\n",
       " 'Remove chicken; let cool.',\n",
       " 'Add sausage to gumbo; cook 30 minutes.',\n",
       " 'Stir in green onions; cook for 30 more minutes.',\n",
       " 'Bone chicken, and cut meat into strips; return chicken to gumbo, and simmer 5 minutes.',\n",
       " 'Remove and discard bay leaves.',\n",
       " 'Remove gumbo from heat.',\n",
       " 'Sprinkle with filé powder, if desired.',\n",
       " 'Serve over hot cooked rice.',\n",
       " 'Garnish, if desired.',\n",
       " '']"
      ]
     },
     "execution_count": 196,
     "metadata": {},
     "output_type": "execute_result"
    }
   ],
   "source": [
    "Gumbo_Instructions"
   ]
  },
  {
   "cell_type": "markdown",
   "id": "28a737fd-709e-42a2-9186-0d34bb0d2164",
   "metadata": {},
   "source": [
    "## Compiling New Dataframe and Converting to CSV file"
   ]
  },
  {
   "cell_type": "code",
   "execution_count": 197,
   "id": "bf70ac04-2c9a-41cf-ba64-92c0b0266554",
   "metadata": {},
   "outputs": [],
   "source": [
    "#Adding Ingredients and Methods to dataframe\n",
    "urls['Ingredients'] = [Etoufee_Ingredients, Gumbo_Ingredients] \n",
    "urls['Methods'] = [Etoufee_Instructions, Gumbo_Instructions] "
   ]
  },
  {
   "cell_type": "code",
   "execution_count": 198,
   "id": "01e55566-b8ed-41c9-877b-a0755a750b86",
   "metadata": {},
   "outputs": [
    {
     "data": {
      "text/html": [
       "<div>\n",
       "<style scoped>\n",
       "    .dataframe tbody tr th:only-of-type {\n",
       "        vertical-align: middle;\n",
       "    }\n",
       "\n",
       "    .dataframe tbody tr th {\n",
       "        vertical-align: top;\n",
       "    }\n",
       "\n",
       "    .dataframe thead th {\n",
       "        text-align: right;\n",
       "    }\n",
       "</style>\n",
       "<table border=\"1\" class=\"dataframe\">\n",
       "  <thead>\n",
       "    <tr style=\"text-align: right;\">\n",
       "      <th></th>\n",
       "      <th>Dish</th>\n",
       "      <th>Published By</th>\n",
       "      <th>Published/Updated On</th>\n",
       "      <th>Recipe Rating</th>\n",
       "      <th>URL</th>\n",
       "      <th>text</th>\n",
       "      <th>Ingredients</th>\n",
       "      <th>Methods</th>\n",
       "    </tr>\n",
       "  </thead>\n",
       "  <tbody>\n",
       "    <tr>\n",
       "      <th>0</th>\n",
       "      <td>Shrimp Étouffée</td>\n",
       "      <td>Patricia S York</td>\n",
       "      <td>17-01-2020</td>\n",
       "      <td>4.7</td>\n",
       "      <td>https://www.southernliving.com/recipes/shrimp-...</td>\n",
       "      <td>&lt;!DOCTYPE html&gt;\\n&lt;html id=\"recipeScTemplate_1-...</td>\n",
       "      <td>[(4 oz.) salted butter, (about 1 1/2 oz.) all-...</td>\n",
       "      <td>[Melt butter in a large Dutch oven over medium...</td>\n",
       "    </tr>\n",
       "    <tr>\n",
       "      <th>1</th>\n",
       "      <td>Chicken and Sausage Gumbo</td>\n",
       "      <td>Southern Living Test Kitchen</td>\n",
       "      <td>15-09-2024</td>\n",
       "      <td>5.0</td>\n",
       "      <td>https://www.southernliving.com/recipes/chicken...</td>\n",
       "      <td>&lt;!DOCTYPE html&gt;\\n&lt;html id=\"recipeScTemplate_1-...</td>\n",
       "      <td>[andouille sausage, cut into 1/4-in.-thick sli...</td>\n",
       "      <td>[Cook sausage in a Dutch oven over medium heat...</td>\n",
       "    </tr>\n",
       "  </tbody>\n",
       "</table>\n",
       "</div>"
      ],
      "text/plain": [
       "                       Dish                   Published By  \\\n",
       "0            Shrimp Étouffée               Patricia S York   \n",
       "1  Chicken and Sausage Gumbo  Southern Living Test Kitchen   \n",
       "\n",
       "  Published/Updated On  Recipe Rating   \\\n",
       "0           17-01-2020             4.7   \n",
       "1           15-09-2024             5.0   \n",
       "\n",
       "                                                 URL  \\\n",
       "0  https://www.southernliving.com/recipes/shrimp-...   \n",
       "1  https://www.southernliving.com/recipes/chicken...   \n",
       "\n",
       "                                                text  \\\n",
       "0  <!DOCTYPE html>\\n<html id=\"recipeScTemplate_1-...   \n",
       "1  <!DOCTYPE html>\\n<html id=\"recipeScTemplate_1-...   \n",
       "\n",
       "                                         Ingredients  \\\n",
       "0  [(4 oz.) salted butter, (about 1 1/2 oz.) all-...   \n",
       "1  [andouille sausage, cut into 1/4-in.-thick sli...   \n",
       "\n",
       "                                             Methods  \n",
       "0  [Melt butter in a large Dutch oven over medium...  \n",
       "1  [Cook sausage in a Dutch oven over medium heat...  "
      ]
     },
     "execution_count": 198,
     "metadata": {},
     "output_type": "execute_result"
    }
   ],
   "source": [
    "urls"
   ]
  },
  {
   "cell_type": "code",
   "execution_count": 199,
   "id": "4a562738-e8fe-4474-80eb-0705684c1bfe",
   "metadata": {},
   "outputs": [],
   "source": [
    "urls.to_csv('Extracted_Recipes.csv', index=False)"
   ]
  }
 ],
 "metadata": {
  "kernelspec": {
   "display_name": "Python 3 (ipykernel)",
   "language": "python",
   "name": "python3"
  },
  "language_info": {
   "codemirror_mode": {
    "name": "ipython",
    "version": 3
   },
   "file_extension": ".py",
   "mimetype": "text/x-python",
   "name": "python",
   "nbconvert_exporter": "python",
   "pygments_lexer": "ipython3",
   "version": "3.12.7"
  }
 },
 "nbformat": 4,
 "nbformat_minor": 5
}
